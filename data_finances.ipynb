{
 "cells": [
  {
   "cell_type": "code",
   "execution_count": null,
   "metadata": {},
   "outputs": [
    {
     "name": "stderr",
     "output_type": "stream",
     "text": [
      "C:\\Users\\Vinicius\\AppData\\Local\\Temp\\ipykernel_18872\\2281613268.py:32: UserWarning: pandas only supports SQLAlchemy connectable (engine/connection) or database string URI or sqlite3 DBAPI2 connection. Other DBAPI2 objects are not tested. Please consider using SQLAlchemy.\n",
      "  df = pd.read_sql(query, con=connection)\n"
     ]
    }
   ],
   "source": [
    "from database import  BitcoinPreco, connection, mycursor\n",
    "\n",
    "def inserir_no_banco(df, tabela):\n",
    "    \n",
    "    # Percorrer as linhas do DataFrame e gerar inserts\n",
    "    for index, row in df.iterrows():\n",
    "        # Montar o comando SQL para inserção\n",
    "        colunas = \", \".join(df.columns)  # Nomes das colunas\n",
    "        valores = \", \".join([f\"'{str(v)}'\" for v in row])  # Valores para o insert, garantindo que estejam entre aspas\n",
    "        sql = f\"INSERT INTO {tabela} ({colunas}) VALUES ({valores});\"\n",
    "        cursor = connection.cursor()\n",
    "        cursor.execute(sql)\n",
    "        connection.commit()\n",
    "\n",
    "fields = ['MXBR_Index', 'MXBR0IT_Index',\n",
    "          'MXBR0CD_Index', 'MXBR0FN_Index',\n",
    "          'MXBR0HC_Index', 'MXBR0CS_Index',\n",
    "          'MXBR0RE_Index', 'MXBR0TC_Index',\n",
    "          'MXBR0EN_Index', 'MXBR0IN_Index',\n",
    "          'MXBR0MT_Index', 'M2BR0CD_Index',\n",
    "          'MXBR0IR_Index', 'MXBR0UT_Index']\n",
    "\n",
    "for index, field in enumerate(fields):\n",
    "    campo = field  # This gives the value of each element\n",
    "    query = f\"SELECT data_serie, {campo} indice, '{field}' valor FROM test.tab_serie\"\n",
    "    df = pd.read_sql(query, con=connection)\n",
    "    inserir_no_banco(df, 'test.tab_valores_serie')\n",
    "\n",
    "\n",
    "df"
   ]
  }
 ],
 "metadata": {
  "kernelspec": {
   "display_name": "Python 3",
   "language": "python",
   "name": "python3"
  },
  "language_info": {
   "codemirror_mode": {
    "name": "ipython",
    "version": 3
   },
   "file_extension": ".py",
   "mimetype": "text/x-python",
   "name": "python",
   "nbconvert_exporter": "python",
   "pygments_lexer": "ipython3",
   "version": "3.13.1"
  }
 },
 "nbformat": 4,
 "nbformat_minor": 2
}

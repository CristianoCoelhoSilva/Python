{
 "cells": [
  {
   "cell_type": "code",
   "execution_count": null,
   "metadata": {},
   "outputs": [],
   "source": [
    "import pandas as pd\n",
    "\n",
    "arquivo = \"C:/Users/Vinicius/Documents/FINANCAS/DADOS/Bitcoin.csv\"\n",
    "\n",
    "# Leia o arquivo CSV\n",
    "df = pd.read_csv(arquivo)\n",
    "\n",
    "# Converter a coluna de data para o formato datetime\n",
    "df['Data'] = pd.to_datetime(df['Data'], format='%d.%m.%Y')\n",
    "\n",
    "# Definir o intervalo de datas desejado\n",
    "data_inicio = df['Data'].min()\n",
    "data_fim = df['Data'].max()\n",
    "\n",
    "# Criar uma sequência completa de datas\n",
    "data_completa = pd.date_range(start=data_inicio, end=data_fim, freq='D')\n",
    "\n",
    "# Verificar quais datas estão faltando\n",
    "datas_faltantes = set(data_completa) - set(df['Data'])\n",
    "\n",
    "# Exibir as datas ausentes\n",
    "print(sorted(datas_faltantes))"
   ]
  },
  {
   "cell_type": "code",
   "execution_count": null,
   "metadata": {},
   "outputs": [],
   "source": []
  },
  {
   "cell_type": "code",
   "execution_count": null,
   "metadata": {},
   "outputs": [
    {
     "name": "stdout",
     "output_type": "stream",
     "text": [
      "[]\n"
     ]
    }
   ],
   "source": []
  }
 ],
 "metadata": {
  "kernelspec": {
   "display_name": "Python 3",
   "language": "python",
   "name": "python3"
  },
  "language_info": {
   "codemirror_mode": {
    "name": "ipython",
    "version": 3
   },
   "file_extension": ".py",
   "mimetype": "text/x-python",
   "name": "python",
   "nbconvert_exporter": "python",
   "pygments_lexer": "ipython3",
   "version": "3.13.1"
  }
 },
 "nbformat": 4,
 "nbformat_minor": 2
}
